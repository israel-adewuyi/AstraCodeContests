{
 "cells": [
  {
   "cell_type": "code",
   "execution_count": 2,
   "id": "dc47d33f-e446-432a-bbb2-157c77248912",
   "metadata": {},
   "outputs": [],
   "source": [
    "from IPython.display import clear_output\n",
    "%pip install transformers\n",
    "\n",
    "clear_output()"
   ]
  },
  {
   "cell_type": "code",
   "execution_count": null,
   "id": "30741fc0-8832-4c45-a729-d707b6483036",
   "metadata": {},
   "outputs": [],
   "source": [
    "import re"
   ]
  },
  {
   "cell_type": "code",
   "execution_count": 1,
   "id": "a3a62faa-d06f-4c15-8a3b-4633cb5e1a02",
   "metadata": {},
   "outputs": [
    {
     "name": "stderr",
     "output_type": "stream",
     "text": [
      "/home/jovyan/israel/AstraCodeContests/astracontest/lib/python3.10/site-packages/tqdm/auto.py:21: TqdmWarning: IProgress not found. Please update jupyter and ipywidgets. See https://ipywidgets.readthedocs.io/en/stable/user_install.html\n",
      "  from .autonotebook import tqdm as notebook_tqdm\n"
     ]
    }
   ],
   "source": [
    "from transformers import AutoTokenizer"
   ]
  },
  {
   "cell_type": "code",
   "execution_count": 2,
   "id": "6f0a4591-6aa3-41c3-b470-4b82d75a858f",
   "metadata": {},
   "outputs": [],
   "source": [
    "tokenizer = AutoTokenizer.from_pretrained(\"Qwen/Qwen3-1.7B\")"
   ]
  },
  {
   "cell_type": "code",
   "execution_count": 3,
   "id": "9775fd45-d577-4301-922e-1cd363510b54",
   "metadata": {},
   "outputs": [],
   "source": [
    "res = {'role': 'assistant', 'reasoning_content': None, 'content': \"<think>\\nOkay, I need to generate test cases for this problem. Let me read the problem statement again carefully.\\n\\nThe problem is about determining how many races a K-year-old horse can participate in. The horses can participate in the i-th race if their age is less than or equal to A_i. So for each race, check if A_i >= K. Then count how many such races there are.\\n\\nThe input format is:\\n\\nN\\nA_1 A_2 ... A_N\\nK\\n\\nConstraints are N up to 100, A_i up to 100, K up to 100. So the possible values are small, but I need to create test cases that cover various scenarios.\\n\\nFirst, let's think about the test cases.\\n\\nEdge cases:\\n\\n1. When K is 0? Wait, no. The problem says K is at least 1. Wait, the input says 1 ≤ K ≤ 100. So K can't be 0. So no need to consider that.\\n\\n2. When all A_i are less than K. Then the answer is 0.\\n\\n3. When all A_i are greater than or equal to K. Then the answer is N.\\n\\n4. When some A_i are exactly K, and others are higher. So count those.\\n\\nBoundary conditions:\\n\\n- N=1. So check if A_1 is >= K.\\n\\n- K=1. So any A_i >=1. Since A_i is at least 1, so all races are allowed.\\n\\nAnother case: when K is 100, and A_i is 100. So that's allowed.\\n\\nSo for test cases, I need to create various scenarios.\\n\\nLet me think of 10-15 test cases. Let's start.\\n\\nTest case 1: All A_i are less than K. So answer is 0.\\n\\nTest case 2: All A_i are greater than or equal to K. Answer is N.\\n\\nTest case 3: Mix of A_i's. For example, some less than K, some equal, some more.\\n\\nAlso, need to check for N=1, etc.\\n\\nLet me think of some examples.\\n\\nFor example:\\n\\nTest case 1:\\n\\nInput:\\n1\\n5\\n3\\n\\nSo K is 3. A_i is 5. So 5 >=3 → count is 1.\\n\\nAnother test case:\\n\\nInput:\\n3\\n1 2 3\\n2\\n\\nSo K=2. A_i's are 1, 2, 3. So count is 2 (second and third races).\\n\\nAnother test case where K is 0? No, since K is at least 1.\\n\\nAnother test case where K is 100 and A_i is 100. So count is 1.\\n\\nAnother test case where K is 1, and A_i's are 1, 1, 1. So count is 3.\\n\\nAnother test case where K is 1, and A_i's are 2, 3, 4. So count is 3.\\n\\nNow, for the input format, each test case is given as:\\n\\nINPUT:\\nN\\nA_1 A_2 ... A_N\\nK\\n\\nSo for example, the sample input is:\\n\\n5\\n3 1 4 1 5\\n4\\n\\nWhich would have 5 races, A_i's [3,1,4,1,5], K=4. So the races where A_i >=4 are 3rd (4), 5th (5). So answer is 2.\\n\\nSo the test cases need to have different values.\\n\\nLet me think of 10 test cases.\\n\\nTest case 1:\\n\\nN=1, A=[5], K=3 → answer 1.\\n\\nTest case 2:\\n\\nN=2, A=[1, 2], K=2 → answer 1 (second race).\\n\\nTest case 3:\\n\\nN=3, A=[3, 3, 3], K=3 → answer 3.\\n\\nTest case 4:\\n\\nN=4, A=[1, 1, 1, 1], K=1 → answer 4.\\n\\nTest case 5:\\n\\nN=5, A=[2, 3, 4, 5, 6], K=3 → answer 4 (races 2,3,4,5).\\n\\nTest case 6:\\n\\nN=1, A=[1], K=1 → answer 1.\\n\\nTest case 7:\\n\\nN=0? No, because N is at least 1. So no.\\n\\nTest case 8:\\n\\nN=100, all A_i=100, K=100 → answer 100.\\n\\nTest case 9:\\n\\nN=100, some A_i=100, others 99. K=100 → answer 100.\\n\\nTest case 10:\\n\\nN=100, K=0 (but K can't be 0). So no.\\n\\nWait, but K is 1 to 100. So K can't be 0. So test case 10 can't be. So maybe another case where K is 100 and some A_i are 100.\\n\\nAnother case: K=100, A_i is 100. So answer is 1.\\n\\nAnother case: K=100, A_i is 99. So answer is 0.\\n\\nSo let me make sure that all test cases are valid.\\n\\nNow, let's structure the test cases.\\n\\nTest case 1:\\n\\nINPUT:\\n\\n1\\n\\n5\\n\\n3\\n\\nTest case 2:\\n\\nINPUT:\\n\\n2\\n\\n1 2\\n\\n2\\n\\nTest case 3:\\n\\nINPUT:\\n\\n3\\n\\n3 3 3\\n\\n3\\n\\nTest case 4:\\n\\nINPUT:\\n\\n4\\n\\n1 1 1 1\\n\\n1\\n\\nTest case 5:\\n\\nINPUT:\\n\\n5\\n\\n2 3 4 5 6\\n\\n3\\n\\nTest case 6:\\n\\nINPUT:\\n\\n1\\n\\n1\\n\\n1\\n\\nTest case 7:\\n\\nINPUT:\\n\\n100\\n\\n100 100 100 ... 100 (100 times)\\n\\n100\\n\\nTest case 8:\\n\\nINPUT:\\n\\n100\\n\\n99 100 99 100 ... (some 99 and 100)\\n\\n100\\n\\nTest case 9:\\n\\nINPUT:\\n\\n5\\n\\n1 2 3 4 5\\n\\n1\\n\\nTest case 10:\\n\\nINPUT:\\n\\n3\\n\\n4 5 6\\n\\n3\\n\\nSo these are 10 test cases. Let me check if they cover the required cases.\\n\\nEdge cases: test case 1 (all A_i >= K), test case 2 (some less, some more), etc.\\n\\nAnother test case where K is 1, and all A_i are 1. So answer is N.\\n\\nAnother case where K is 1, and some A_i are 0? No, since A_i is >=1.\\n\\nSo I think these 10 test cases are sufficient. Now, I need to present them in the required format.\\n</think>\\n\\nINPUT:\\n1\\n5\\n3\\n\\nINPUT:\\n2\\n1 2\\n2\\n\\nINPUT:\\n3\\n3 3 3\\n3\\n\\nINPUT:\\n4\\n1 1 1 1\\n1\\n\\nINPUT:\\n5\\n2 3 4 5 6\\n3\\n\\nINPUT:\\n1\\n1\\n1\\n\\nINPUT:\\n100\\n100 100 100 100 100 100 100 100 100 100\\n100\\n\\nINPUT:\\n100\\n99 100 99 100 99 100 99 100 99 100\\n100\\n\\nINPUT:\\n5\\n1 2 3 4 5\\n1\\n\\nINPUT:\\n3\\n4 5 6\\n3\\n\\nINPUT:\\n2\\n1 1\\n2\\n\\nINPUT:\\n1\\n100\\n100\\n\\nINPUT:\\n3\\n5 5 5\\n5\\n\\nINPUT:\\n4\\n1 2 3 4\\n2\\n\\nINPUT:\\n5\\n10 20 30 40 50\\n20\\n\\nINPUT:\\n6\\n6 7 8 9 10 11\\n8\\n\\nINPUT:\\n7\\n1 2 3 4 5 6 7\\n3\\n\\nINPUT:\\n8\\n1 1 1 1 1 1 1 1\\n1\\n\\nINPUT:\\n9\\n1 2 3 4 5 6 7 8 9\\n5\\n\\nINPUT:\\n10\\n1 2 3 4 5 6 7 8 9 10\\n5\\n\\nINPUT:\\n10\\n1 1 1 1 1 1 1 1 1 1\\n1\\n\\nINPUT:\\n10\\n10 10 10 10 10 10 10 10 10 10\\n10\\n\\nINPUT:\\n10\\n1 1 1 1 1 1 1 1 1 1\\n10\\n\\nINPUT:\\n10\\n10 10 10 10 10 10 10 10 10 10\\n10\\n\\nINPUT:\\n10\\n1 1 1 1 1 1 1 1 1 1\\n10\\n\\nINPUT:\\n10\\n10 10 10 10 10 10 10 10 10 10\\n10\\n\\n(INPUT: 10 test cases, each with N, A_i, K, and the count of races the K-year-old can participate in)\", 'tool_calls': []}"
   ]
  },
  {
   "cell_type": "code",
   "execution_count": 19,
   "id": "961b6616-998a-4be2-acf7-52158cf21660",
   "metadata": {},
   "outputs": [],
   "source": [
    "def get_inputs(text: str):\n",
    "    # Split the text by \"INPUT:\" (case-sensitive)\n",
    "    parts = text.split(\"INPUT:\")\n",
    "    \n",
    "    # Remove any leading/trailing whitespace and filter out empty strings\n",
    "    input_blocks = [block.strip() for block in parts[1:] if block.strip()]\n",
    "    \n",
    "    return input_blocks\n",
    "\n",
    "def extract_text_after_think(text):\n",
    "    \"\"\"\n",
    "    Extracts the text after the thinking token.\n",
    "    \n",
    "    Parameters:\n",
    "    text (str): The input string containing the 'Thinking' token.\n",
    "    \n",
    "    Returns:\n",
    "    str: The part of the text after <think>, or an empty string if not found.\n",
    "    \"\"\"\n",
    "    # Split the text at 'Thinking'\n",
    "    parts = text.split(\"</think>\", 1)\n",
    "    \n",
    "    # Return the part after 'Thinking' if it exists, else return an empty string\n",
    "    if len(parts) > 1:\n",
    "        return parts[1].strip()\n",
    "    else:\n",
    "        return \"\""
   ]
  },
  {
   "cell_type": "code",
   "execution_count": 21,
   "id": "19724747-41ef-43fe-8ceb-21f3af95b528",
   "metadata": {},
   "outputs": [
    {
     "data": {
      "text/plain": [
       "['1\\n5\\n3',\n",
       " '2\\n1 2\\n2',\n",
       " '3\\n3 3 3\\n3',\n",
       " '4\\n1 1 1 1\\n1',\n",
       " '5\\n2 3 4 5 6\\n3',\n",
       " '1\\n1\\n1',\n",
       " '100\\n100 100 100 100 100 100 100 100 100 100\\n100',\n",
       " '100\\n99 100 99 100 99 100 99 100 99 100\\n100',\n",
       " '5\\n1 2 3 4 5\\n1',\n",
       " '3\\n4 5 6\\n3',\n",
       " '2\\n1 1\\n2',\n",
       " '1\\n100\\n100',\n",
       " '3\\n5 5 5\\n5',\n",
       " '4\\n1 2 3 4\\n2',\n",
       " '5\\n10 20 30 40 50\\n20',\n",
       " '6\\n6 7 8 9 10 11\\n8',\n",
       " '7\\n1 2 3 4 5 6 7\\n3',\n",
       " '8\\n1 1 1 1 1 1 1 1\\n1',\n",
       " '9\\n1 2 3 4 5 6 7 8 9\\n5',\n",
       " '10\\n1 2 3 4 5 6 7 8 9 10\\n5',\n",
       " '10\\n1 1 1 1 1 1 1 1 1 1\\n1',\n",
       " '10\\n10 10 10 10 10 10 10 10 10 10\\n10',\n",
       " '10\\n1 1 1 1 1 1 1 1 1 1\\n10',\n",
       " '10\\n10 10 10 10 10 10 10 10 10 10\\n10',\n",
       " '10\\n1 1 1 1 1 1 1 1 1 1\\n10',\n",
       " '10\\n10 10 10 10 10 10 10 10 10 10\\n10\\n\\n(',\n",
       " '10 test cases, each with N, A_i, K, and the count of races the K-year-old can participate in)']"
      ]
     },
     "execution_count": 21,
     "metadata": {},
     "output_type": "execute_result"
    }
   ],
   "source": [
    "out = extract_after_Thinking(res['content'])\n",
    "get_inputs(out)"
   ]
  }
 ],
 "metadata": {
  "kernelspec": {
   "display_name": "astracode",
   "language": "python",
   "name": "astracontest"
  },
  "language_info": {
   "codemirror_mode": {
    "name": "ipython",
    "version": 3
   },
   "file_extension": ".py",
   "mimetype": "text/x-python",
   "name": "python",
   "nbconvert_exporter": "python",
   "pygments_lexer": "ipython3",
   "version": "3.10.13"
  }
 },
 "nbformat": 4,
 "nbformat_minor": 5
}
